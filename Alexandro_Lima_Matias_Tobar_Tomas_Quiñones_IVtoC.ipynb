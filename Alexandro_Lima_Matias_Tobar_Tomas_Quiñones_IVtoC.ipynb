{
 "cells": [
  {
   "cell_type": "markdown",
   "id": "ce9bce51",
   "metadata": {},
   "source": [
    "# Integrantes: Alexandro Lima, Matías Tobar, Tomás Quiñones"
   ]
  },
  {
   "cell_type": "markdown",
   "id": "2af3a049",
   "metadata": {},
   "source": [
    "# Importar y abrir archivo que vamos a utilizar"
   ]
  },
  {
   "cell_type": "code",
   "execution_count": 29,
   "id": "60cbf4a6",
   "metadata": {
    "scrolled": true
   },
   "outputs": [
    {
     "data": {
      "text/html": [
       "<div>\n",
       "<style scoped>\n",
       "    .dataframe tbody tr th:only-of-type {\n",
       "        vertical-align: middle;\n",
       "    }\n",
       "\n",
       "    .dataframe tbody tr th {\n",
       "        vertical-align: top;\n",
       "    }\n",
       "\n",
       "    .dataframe thead th {\n",
       "        text-align: right;\n",
       "    }\n",
       "</style>\n",
       "<table border=\"1\" class=\"dataframe\">\n",
       "  <thead>\n",
       "    <tr style=\"text-align: right;\">\n",
       "      <th></th>\n",
       "      <th>_id</th>\n",
       "      <th>Ano</th>\n",
       "      <th>Aguas Superficiales (1) / Surface water</th>\n",
       "      <th>Aguas Subterraneas (2) / Groundwater</th>\n",
       "      <th>Aguas adquiridas a terceros (3) / Purchased water</th>\n",
       "      <th>Aguas de mar (4) / Seawater</th>\n",
       "    </tr>\n",
       "  </thead>\n",
       "  <tbody>\n",
       "    <tr>\n",
       "      <th>0</th>\n",
       "      <td>1</td>\n",
       "      <td>2009</td>\n",
       "      <td>5289</td>\n",
       "      <td>5287</td>\n",
       "      <td>1378</td>\n",
       "      <td>316</td>\n",
       "    </tr>\n",
       "    <tr>\n",
       "      <th>1</th>\n",
       "      <td>2</td>\n",
       "      <td>2010</td>\n",
       "      <td>5488</td>\n",
       "      <td>5510</td>\n",
       "      <td>1411</td>\n",
       "      <td>243</td>\n",
       "    </tr>\n",
       "    <tr>\n",
       "      <th>2</th>\n",
       "      <td>3</td>\n",
       "      <td>2011</td>\n",
       "      <td>5637</td>\n",
       "      <td>5359</td>\n",
       "      <td>855</td>\n",
       "      <td>713</td>\n",
       "    </tr>\n",
       "    <tr>\n",
       "      <th>3</th>\n",
       "      <td>4</td>\n",
       "      <td>2012</td>\n",
       "      <td>5867</td>\n",
       "      <td>5749</td>\n",
       "      <td>763</td>\n",
       "      <td>978</td>\n",
       "    </tr>\n",
       "    <tr>\n",
       "      <th>4</th>\n",
       "      <td>5</td>\n",
       "      <td>2013</td>\n",
       "      <td>5896</td>\n",
       "      <td>6200</td>\n",
       "      <td>577</td>\n",
       "      <td>1287</td>\n",
       "    </tr>\n",
       "    <tr>\n",
       "      <th>5</th>\n",
       "      <td>6</td>\n",
       "      <td>2014</td>\n",
       "      <td>5953</td>\n",
       "      <td>6302</td>\n",
       "      <td>742</td>\n",
       "      <td>1707</td>\n",
       "    </tr>\n",
       "  </tbody>\n",
       "</table>\n",
       "</div>"
      ],
      "text/plain": [
       "   _id   Ano  Aguas Superficiales (1) / Surface water  \\\n",
       "0    1  2009                                     5289   \n",
       "1    2  2010                                     5488   \n",
       "2    3  2011                                     5637   \n",
       "3    4  2012                                     5867   \n",
       "4    5  2013                                     5896   \n",
       "5    6  2014                                     5953   \n",
       "\n",
       "   Aguas Subterraneas (2) / Groundwater  \\\n",
       "0                                  5287   \n",
       "1                                  5510   \n",
       "2                                  5359   \n",
       "3                                  5749   \n",
       "4                                  6200   \n",
       "5                                  6302   \n",
       "\n",
       "   Aguas adquiridas a terceros (3) / Purchased water  \\\n",
       "0                                               1378   \n",
       "1                                               1411   \n",
       "2                                                855   \n",
       "3                                                763   \n",
       "4                                                577   \n",
       "5                                                742   \n",
       "\n",
       "   Aguas de mar (4) / Seawater  \n",
       "0                          316  \n",
       "1                          243  \n",
       "2                          713  \n",
       "3                          978  \n",
       "4                         1287  \n",
       "5                         1707  "
      ]
     },
     "execution_count": 29,
     "metadata": {},
     "output_type": "execute_result"
    }
   ],
   "source": [
    "import pandas as pd\n",
    "import cufflinks as cf\n",
    "import numpy as np\n",
    "datos = pd.read_csv('Downloads/2b379048-9714-400f-b9f9-b300ac139e24.csv') #Extracción de agua según fuente\n",
    "\n",
    "datos"
   ]
  },
  {
   "cell_type": "markdown",
   "id": "d516391d",
   "metadata": {},
   "source": [
    "# Elegimos que queremos predecir y creamos grafica"
   ]
  },
  {
   "cell_type": "code",
   "execution_count": 30,
   "id": "572e0519",
   "metadata": {
    "scrolled": true
   },
   "outputs": [
    {
     "data": {
      "text/plain": [
       "<matplotlib.collections.PathCollection at 0x28b22a1f370>"
      ]
     },
     "execution_count": 30,
     "metadata": {},
     "output_type": "execute_result"
    },
    {
     "data": {
      "image/png": "[encoded data removed]",
      "text/plain": [
       "<Figure size 432x288 with 1 Axes>"
      ]
     },
     "metadata": {
      "needs_background": "light"
     },
     "output_type": "display_data"
    }
   ],
   "source": [
    "from matplotlib import pyplot as plt\n",
    " \n",
    "x = datos['Ano'].values.reshape(-1, 1)\n",
    "y = datos['Aguas Superficiales (1) / Surface water'].values.reshape(-1, 1) #En este caso queremos ver Aguas Superficiales\n",
    "plt.scatter(x,y)\n"
   ]
  },
  {
   "cell_type": "markdown",
   "id": "6de2f470",
   "metadata": {},
   "source": [
    "# Se hace la predicción"
   ]
  },
  {
   "cell_type": "code",
   "execution_count": 31,
   "id": "a3019db2",
   "metadata": {},
   "outputs": [
    {
     "data": {
      "image/png": "[encoded data removed]",
      "text/plain": [
       "<Figure size 432x288 with 1 Axes>"
      ]
     },
     "metadata": {
      "needs_background": "light"
     },
     "output_type": "display_data"
    }
   ],
   "source": [
    "from sklearn.linear_model import LinearRegression\n",
    " \n",
    "model = LinearRegression()\n",
    "model.fit(x, y)\n",
    "y_pred = model.predict(x)\n",
    " \n",
    "plt.scatter(x, y)\n",
    "plt.plot(x, y_pred, color='y')\n",
    "plt.show()"
   ]
  },
  {
   "cell_type": "code",
   "execution_count": 32,
   "id": "fe826940",
   "metadata": {},
   "outputs": [],
   "source": [
    "import numpy as np\n",
    "from sklearn.metrics import mean_squared_error, r2_score"
   ]
  },
  {
   "cell_type": "code",
   "execution_count": 33,
   "id": "2bb1f4ac",
   "metadata": {},
   "outputs": [],
   "source": [
    "from sklearn.preprocessing import PolynomialFeatures\n",
    " \n",
    "x_poly = poly.fit_transform(x)\n",
    "poly = PolynomialFeatures(degree=2, include_bias=False)"
   ]
  },
  {
   "cell_type": "code",
   "execution_count": 34,
   "id": "6ce8e358",
   "metadata": {},
   "outputs": [
    {
     "data": {
      "image/png": "[encoded data removed]",
      "text/plain": [
       "<Figure size 432x288 with 1 Axes>"
      ]
     },
     "metadata": {
      "needs_background": "light"
     },
     "output_type": "display_data"
    },
    {
     "name": "stdout",
     "output_type": "stream",
     "text": [
      "RMSE: 28.537110350923\n",
      "R2: 0.9859321646676914\n"
     ]
    }
   ],
   "source": [
    "model.fit(x_poly, y)\n",
    "y_pred = model.predict(x_poly)\n",
    " \n",
    "plt.scatter(x, y)\n",
    "plt.plot(x, y_pred, color='r')\n",
    "plt.show()\n",
    " \n",
    "rmse = np.sqrt(mean_squared_error(y,y_pred))\n",
    "r2 = r2_score(y,y_pred)\n",
    "print ('RMSE: ' + str(rmse))\n",
    "print ('R2: ' + str(r2))"
   ]
  },
  {
   "cell_type": "markdown",
   "id": "c74c4d48",
   "metadata": {},
   "source": [
    "# Al final nos quedamos con la regresión polinómica ya que es más precisa que la lineal"
   ]
  },
  {
   "cell_type": "code",
   "execution_count": null,
   "id": "c661d1a6",
   "metadata": {},
   "outputs": [],
   "source": []
  }
 ],
 "metadata": {
  "kernelspec": {
   "display_name": "Python 3 (ipykernel)",
   "language": "python",
   "name": "python3"
  },
  "language_info": {
   "codemirror_mode": {
    "name": "ipython",
    "version": 3
   },
   "file_extension": ".py",
   "mimetype": "text/x-python",
   "name": "python",
   "nbconvert_exporter": "python",
   "pygments_lexer": "ipython3",
   "version": "3.9.12"
  }
 },
 "nbformat": 4,
 "nbformat_minor": 5
}
